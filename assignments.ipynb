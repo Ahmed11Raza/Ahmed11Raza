{
  "cells": [
    {
      "cell_type": "markdown",
      "metadata": {
        "id": "view-in-github",
        "colab_type": "text"
      },
      "source": [
        "<a href=\"https://colab.research.google.com/github/Ahmed11Raza/Ahmed11Raza/blob/main/assignments.ipynb\" target=\"_parent\"><img src=\"https://colab.research.google.com/assets/colab-badge.svg\" alt=\"Open In Colab\"/></a>"
      ]
    },
    {
      "cell_type": "markdown",
      "metadata": {
        "id": "0zX7y1LuEAOZ"
      },
      "source": [
        "# **## 1. Joke Bot**\n",
        "\n",
        "Write a simple joke bot. The bot starts by asking the user what they want. However, your program will only respond to one response: Joke.\n",
        "\n",
        "If the user enters Joke then we will print out a single joke. Each time the joke is always the same:\n",
        "\n",
        "Here is a joke for you! Panaversity GPT - Sophia is heading out to the grocery store. A programmer tells her: get a liter of milk, and if they have eggs, get 12. Sophia returns with 13 liters of milk. The programmer asks why and Sophia replies: 'because they had eggs'\n",
        "\n",
        "If the user enters anything else we print out:\n",
        "\n",
        "Sorry I only tell jokes\n",
        "\n",
        "You should use the three constants:\n",
        "\n",
        "PROMPT JOKE SORRY\n",
        "\n",
        "which contain the strings for the prompt asked to the user, the joke to print out if the user enters Joke and the sorry message if the user enters anything else.\n",
        "\n"
      ]
    },
    {
      "cell_type": "code",
      "execution_count": null,
      "metadata": {
        "colab": {
          "base_uri": "https://localhost:8080/"
        },
        "id": "rLpsRD-XESqo",
        "outputId": "a7a3a5c2-3026-450f-9f9a-8cb7dd8f1172"
      },
      "outputs": [
        {
          "name": "stdout",
          "output_type": "stream",
          "text": [
            "What would you want? joke\n",
            "joke\n",
            "Why did the developer go broke?Because he used up all his cache!\n"
          ]
        }
      ],
      "source": [
        "# Constant\n",
        "PROMPT = \"What would you want? \"\n",
        "JOKE : str = \"Why did the developer go broke?Because he used up all his cache!\"\n",
        "\n",
        "# 1. Get user input\n",
        "\n",
        "def get_user_input():\n",
        "    return input(PROMPT)\n",
        "\n",
        "user_input = input(PROMPT)\n",
        "print(user_input)\n",
        "\n",
        "# 2.If-Else Statement\n",
        "if user_input.lower() == \"joke\":\n",
        "    print(JOKE)\n",
        "else:\n",
        "    print(\"Sorry I only tell jokes\")"
      ]
    },
    {
      "cell_type": "markdown",
      "metadata": {
        "id": "6-lHlMO4OFkL"
      },
      "source": [
        "# ## **2.Double it**\n",
        "\n",
        "Write a program that asks a user to enter a number. Your program will then double that number and print out the result. It will repeat that process until the value is 100 or greater.\n",
        "\n",
        "For example if the user enters the number 2 you would then print:\n",
        "\n",
        "4 8 16 32 64 128\n",
        "\n",
        "Note that:\n",
        "\n",
        "2 doubled is 4\n",
        "\n",
        "4 doubled is 8\n",
        "\n",
        "8 doubled is 16\n",
        "\n",
        "and so on.\n",
        "\n",
        "We stop at 128 because that value is greater than 100."
      ]
    },
    {
      "cell_type": "code",
      "execution_count": null,
      "metadata": {
        "colab": {
          "base_uri": "https://localhost:8080/"
        },
        "id": "V32nBMufZhAO",
        "outputId": "c1d5806d-dd07-4199-ae95-cf0b5c6101f3"
      },
      "outputs": [
        {
          "name": "stdout",
          "output_type": "stream",
          "text": [
            "Enter a number: 3\n",
            "6 12 24 48 96 192 "
          ]
        }
      ],
      "source": [
        "def double_it():\n",
        "  user_input = int(input(\"Enter a number: \"))\n",
        "\n",
        "  while user_input <= 100:\n",
        "    user_input = 2 * user_input\n",
        "    print(user_input,end=\" \")\n",
        "\n",
        "#Corrected the recursive call that was causing the infinite loop\n",
        "double_it()"
      ]
    },
    {
      "cell_type": "markdown",
      "metadata": {
        "id": "DoflLb9pZ_Km"
      },
      "source": [
        "# **## 3. Takeoff counter**\n",
        "\n",
        "Write a program that prints out the calls for a spaceship that is about to launch. Countdown from 10 to 1 and then output Liftoff!\n",
        "\n",
        "Here's a sample run of the program:\n",
        "\n",
        "10 9 8 7 6 5 4 3 2 1 Liftoff!\n",
        "There are many ways to solve this problem. One approach is to use a for loop, and to use the for loop variable i. Recall that i will keep track of how many times the for loop has completed executing its body. As an example this code:\n",
        "\n",
        "for i in range(10): print(i)\n"
      ]
    },
    {
      "cell_type": "code",
      "execution_count": null,
      "metadata": {
        "colab": {
          "base_uri": "https://localhost:8080/"
        },
        "id": "PKXXnBndbL4J",
        "outputId": "c5741a10-a117-4c57-e0bc-fbfef02016a7"
      },
      "outputs": [
        {
          "name": "stdout",
          "output_type": "stream",
          "text": [
            "10 9 8 7 6 5 4 3 2 1 Liftoff!\n"
          ]
        }
      ],
      "source": [
        "# list\n",
        "list= [10,9,8,7,6,5,4,3,2,1]\n",
        "def countdown():\n",
        "  for i in list:\n",
        "    print(i,end=\" \")\n",
        "  print(\"Liftoff!\")\n",
        "\n",
        "countdown()\n"
      ]
    },
    {
      "cell_type": "markdown",
      "metadata": {
        "id": "v6LLrgmEu1i5"
      },
      "source": [
        "\n",
        "## ##4. **Guess My Number**\n",
        "\n",
        "I am thinking of a number between 0 and 99... Enter a guess: 50 Your guess is too high\n",
        "\n",
        "Enter a new number: 25 Your guess is too low\n",
        "\n",
        "Enter a new number: 40 Your guess is too low\n",
        "\n",
        "Enter a new number: 45 Your guess is too low\n",
        "\n",
        "Enter a new number: 48 Congrats! The number was: 48"
      ]
    },
    {
      "cell_type": "code",
      "execution_count": null,
      "metadata": {
        "colab": {
          "base_uri": "https://localhost:8080/"
        },
        "id": "RGk6_ddvu9Ez",
        "outputId": "d948a17c-8aa0-48af-869a-5f0728830985"
      },
      "outputs": [
        {
          "name": "stdout",
          "output_type": "stream",
          "text": [
            "You have 5 attempts left\n",
            "Guess a number: 66\n",
            "Your guess is too low\n",
            "You have 4 attempts left\n",
            "Guess a number: 77\n",
            "Your guess is too low\n",
            "You have 3 attempts left\n",
            "Guess a number: 88\n",
            "Your guess is too low\n",
            "You have 2 attempts left\n",
            "Guess a number: 95\n",
            "Your guess is too high\n",
            "You have 1 attempts left\n",
            "Guess a number: 92\n",
            "Congrats! The number was: 92\n"
          ]
        }
      ],
      "source": [
        "# import random\n",
        "# 1.# Generate any random number using \"random\"\n",
        "\n",
        "# random_generated_number: int = random.randint(1, 100)\n",
        "\n",
        "# # No. of attempts\n",
        "# allowed_attempts: int = 5\n",
        "# user_attempt: int = 0\n",
        "\n",
        "# 2.# While condition with break statement\n",
        "# while True:\n",
        "#   print(f\"You have {allowed_attempts - user_attempt} attempts left\")\n",
        "#   if user_attempt == allowed_attempts:\n",
        "#     print(\"You have exceeded the number of attempts\")\n",
        "#     break\n",
        "\n",
        "#   3.# get user input\n",
        "\n",
        "#   user_input = int(input(\"Guess a number: \"))\n",
        "#   user_attempt += 1\n",
        "\n",
        "#   4.# if condition\n",
        "#   if user_input == random_generated_number:\n",
        "#     print(f\"Congrats! The number was: {random_generated_number}\")\n",
        "#     break\n",
        "#     # else if condition\n",
        "#   elif user_input > random_generated_number:\n",
        "#     print(\"Your guess is too high\")\n",
        "#   elif user_input < random_generated_number:\n",
        "#     print(\"Your guess is too low\")\n",
        "#   else:\n",
        "#     print(\"Invalid input\")\n",
        "\n",
        "      # problem:Run infinite time (limted access to user)\n",
        "    # error handling:try (\"   \") , except(\"   \")\n",
        "\n",
        "\n",
        "import random\n",
        "\n",
        "# Generate any random number using \"random\"\n",
        "random_generated_number: int = random.randint(1, 100)\n",
        "\n",
        "# No. of attempts\n",
        "allowed_attempts: int = 5\n",
        "user_attempt: int = 0\n",
        "\n",
        "# While condition with break statement\n",
        "while True:\n",
        "    print(f\"You have {allowed_attempts - user_attempt} attempts left\")\n",
        "\n",
        "    if user_attempt == allowed_attempts:\n",
        "        print(\" You have exceeded the number of attempt Game Over!\")\n",
        "        break\n",
        "\n",
        "    # Get user input with try-except block\n",
        "    try:\n",
        "        user_input = int(input(\"Guess a number: \"))\n",
        "    except ValueError:\n",
        "        print(\"Invalid input! Please enter an integer only.\")\n",
        "        continue  # Go back to the beginning of the loop for another attempt\n",
        "\n",
        "    user_attempt += 1\n",
        "\n",
        "    # if condition\n",
        "    if user_input == random_generated_number:\n",
        "        print(f\"Congrats! The number was: {random_generated_number}\")\n",
        "        break\n",
        "    elif user_input > random_generated_number:\n",
        "        print(\"Your guess is too high\")\n",
        "    elif user_input < random_generated_number:\n",
        "        print(\"Your guess is too low\")\n",
        "\n",
        "\n",
        "\n"
      ]
    },
    {
      "cell_type": "markdown",
      "metadata": {
        "id": "xJXP08_9OWOY"
      },
      "source": [
        "# ** ## 5. random numbers**\n",
        "\n",
        "Print 10 random numbers in the range 1 to 100.\n",
        "\n",
        "Here is an example run:\n",
        "\n",
        "45 79 61 47 52 10 16 83 19 12\n",
        "\n",
        "Each time you run your program you should get different numbers\n",
        "\n",
        "81 76 70 1 27 63 96 100 32 92\n",
        "\n",
        "Recall that the python random library has a function randint which returns an integer in the range set by the parameters (inclusive). For example this call would produce a random integer between 1 and 6, which could include 1 and could include 6:"
      ]
    },
    {
      "cell_type": "code",
      "execution_count": null,
      "metadata": {
        "colab": {
          "base_uri": "https://localhost:8080/"
        },
        "id": "AZ59krNrOudk",
        "outputId": "0a82897b-6607-4360-a6f7-ce2e6de6a53a"
      },
      "outputs": [
        {
          "name": "stdout",
          "output_type": "stream",
          "text": [
            "[15, 35, 74, 47, 57, 25, 13, 78, 68, 57]\n"
          ]
        }
      ],
      "source": [
        "import random\n",
        "\n",
        "N_NUMBERS: int = 10\n",
        "MIN_VALUE: int = 1\n",
        "MAX_VALUE: int = 100\n",
        "\n",
        "\n",
        "#function\n",
        "\n",
        "import random\n",
        "\n",
        "N_NUMBERS: int = 10\n",
        "MIN_VALUE: int = 1\n",
        "MAX_VALUE: int = 100\n",
        "\n",
        "\n",
        "#function\n",
        "\n",
        "# using for loop\n",
        "# to save the number\n",
        "number_list = []\n",
        "for i in range(N_NUMBERS):\n",
        "  random_number = random.randint(MIN_VALUE,MAX_VALUE)\n",
        "  number_list.append(random_number)\n",
        "\n",
        "#  print(random_number,end=\" \")\n",
        "print(number_list)"
      ]
    },
    {
      "cell_type": "markdown",
      "metadata": {
        "id": "aT5n2X_dBTb6"
      },
      "source": [
        "# **Problem: Planetary Weight Calculator**\n",
        "\n",
        "A few years ago, NASA made history with the first controlled flight on another planet. Its latest Mars Rover, Perseverance, has onboard a 50cm high helicopter called Ingenuity. Ingenuity made its third flight, during which it flew faster and further than it had on any of its test flights on Earth. Interestingly, Ingenuity uses Python for some of its flight modeling software!\n",
        "\n",
        "Ingenuity on the surface of Mars (source: NASA)\n",
        "\n",
        "When programming Ingenuity, one of the things that NASA engineers need to account for is the fact that due to the weaker gravity on Mars, an Earthling's weight on Mars is 37.8% of their weight on Earth. Write a Python program that prompts an Earthling to enter their weight on Earth and prints their calculated weight on Mars.\n",
        "\n",
        "\n",
        "\n"
      ]
    },
    {
      "cell_type": "code",
      "execution_count": null,
      "metadata": {
        "id": "m34ZrAQPUkuR"
      },
      "outputs": [],
      "source": [
        "MARS_CONSTANT:float=0.378\n"
      ]
    },
    {
      "cell_type": "code",
      "execution_count": null,
      "metadata": {
        "colab": {
          "base_uri": "https://localhost:8080/"
        },
        "id": "zkoiKfsv4fOa",
        "outputId": "b505a4ab-58a3-43a0-a81a-690999136d7d"
      },
      "outputs": [
        {
          "name": "stdout",
          "output_type": "stream",
          "text": [
            "Enter your weight on Earth: 55\n",
            "Your weight on Mars is: 20.9 kg\n"
          ]
        },
        {
          "data": {
            "text/plain": [
              "20.9"
            ]
          },
          "execution_count": 35,
          "metadata": {},
          "output_type": "execute_result"
        }
      ],
      "source": [
        "\n",
        "def get_mars_weight():\n",
        "\n",
        "  # Milestone:01 get user weight\n",
        "\n",
        "  user_weight:float=float(input(\"Enter your weight on Earth: \"))\n",
        "  #print(f\"Your weight on Earth is: {user_weight} kg\")\n",
        "\n",
        "\n",
        "  # Milestone:02 find user weight on Mars\n",
        "\n",
        "  user_weight:float=round(user_weight*MARS_CONSTANT,2)\n",
        "  print(f\"Your weight on Mars is: {user_weight} kg\")\n",
        "\n",
        "# Toget weight on mars\n",
        "\n",
        "  return user_weight\n",
        "get_mars_weight()\n"
      ]
    },
    {
      "cell_type": "code",
      "execution_count": null,
      "metadata": {
        "colab": {
          "base_uri": "https://localhost:8080/"
        },
        "id": "Alc7lMnIIg9B",
        "outputId": "ab2a9d22-8c87-42d7-fecf-3c9fcc2e393b"
      },
      "outputs": [
        {
          "name": "stdout",
          "output_type": "stream",
          "text": [
            "Welcome to the Planet Weight Calculator!\n",
            "This program will help you calculate your weight on different planets.\n",
            "Enter your weight on Earth (kg): 75\n",
            "Available planets: Mercury, Venus, Mars, Jupiter, Saturn, Uranus, Neptune\n",
            "Enter the name of the planet you want to calculate your weight for: uranus\n",
            "Your weight on Uranus is: 69.0 kg\n"
          ]
        }
      ],
      "source": [
        "# Define the planet constants\n",
        "MERCURY_CONSTANT = 0.38  # Mercury's gravity relative to Earth's\n",
        "VENUS_CONSTANT = 0.91    # Venus's gravity relative to Earth's\n",
        "MARS_CONSTANT = 0.38     # Mars's gravity relative to Earth's\n",
        "JUPITER_CONSTANT = 2.34  # Jupiter's gravity relative to Earth's\n",
        "SATURN_CONSTANT = 1.06   # Saturn's gravity relative to Earth's\n",
        "URANUS_CONSTANT = 0.92   # Uranus's gravity relative to Earth's\n",
        "NEPTUNE_CONSTANT = 1.19  # Neptune's gravity relative to Earth's\n",
        "\n",
        "def get_planet_weight():\n",
        "    # Welcome message\n",
        "    print(\"Welcome to the Planet Weight Calculator!\")\n",
        "    print(\"This program will help you calculate your weight on different planets.\")\n",
        "    # Taking user input to get their weight\n",
        "    try:\n",
        "        user_weight = float(input(\"Enter your weight on Earth (kg): \").strip())\n",
        "    except ValueError:\n",
        "        print(\"Invalid input! Please enter a numeric value for weight.\")\n",
        "        return\n",
        "    # Displaying available planets to the user\n",
        "    print(\"Available planets: Mercury, Venus, Mars, Jupiter, Saturn, Uranus, Neptune\")\n",
        "\n",
        "\n",
        "    # Taking user input on selecting planet (convert to lowercase and strip spaces)\n",
        "    user_planet = input(\"Enter the name of the planet you want to calculate your weight for: \").strip().lower()\n",
        "\n",
        "    # Check user input with lowercase planet names\n",
        "    if user_planet == \"mercury\":\n",
        "        user_weight = round(user_weight * MERCURY_CONSTANT, 2)\n",
        "        print(f\"Your weight on Mercury is: {user_weight} kg\")\n",
        "    elif user_planet == \"venus\":\n",
        "        user_weight = round(user_weight * VENUS_CONSTANT, 2)\n",
        "        print(f\"Your weight on Venus is: {user_weight} kg\")\n",
        "    elif user_planet == \"mars\":\n",
        "        user_weight = round(user_weight * MARS_CONSTANT, 2)\n",
        "        print(f\"Your weight on Mars is: {user_weight} kg\")\n",
        "    elif user_planet == \"jupiter\":\n",
        "        user_weight = round(user_weight * JUPITER_CONSTANT, 2)\n",
        "        print(f\"Your weight on Jupiter is: {user_weight} kg\")\n",
        "    elif user_planet == \"saturn\":\n",
        "        user_weight = round(user_weight * SATURN_CONSTANT, 2)\n",
        "        print(f\"Your weight on Saturn is: {user_weight} kg\")\n",
        "    elif user_planet == \"uranus\":\n",
        "        user_weight = round(user_weight * URANUS_CONSTANT, 2)\n",
        "        print(f\"Your weight on Uranus is: {user_weight} kg\")\n",
        "    elif user_planet == \"neptune\":\n",
        "        user_weight = round(user_weight * NEPTUNE_CONSTANT, 2)\n",
        "        print(f\"Your weight on Neptune is: {user_weight} kg\")\n",
        "    else:\n",
        "        print(\"Unknown planet! Please enter a valid planet name.\")\n",
        "\n",
        "# Function call\n",
        "\n",
        "get_planet_weight()\n"
      ]
    },
    {
      "cell_type": "markdown",
      "metadata": {
        "id": "Yj-SfBxO-eB5"
      },
      "source": [
        "# **High low game**"
      ]
    },
    {
      "cell_type": "code",
      "execution_count": null,
      "metadata": {
        "colab": {
          "base_uri": "https://localhost:8080/"
        },
        "id": "_bCL0MSy7pJD",
        "outputId": "24c6e0d8-6093-492c-bc16-d5eb9119052a"
      },
      "outputs": [
        {
          "name": "stdout",
          "output_type": "stream",
          "text": [
            "Welcome to the High-Low Game!\n",
            "--------------------------------\n",
            "your number is : {34}\n",
            "Do you think your number is higher or lower than the computer's?:higher\n",
            "higher\n",
            "You lose!\n",
            "Your score is: 0\n"
          ]
        }
      ],
      "source": [
        "import random\n",
        "\n",
        "NUM_ROUNDS = 5\n",
        "\n",
        "# Milestone 4: Play multiple rounds\n",
        "current_round = 0\n",
        "score = 0\n",
        "while True:\n",
        "  current_round += 1\n",
        "\n",
        "  if current_round > NUM_ROUNDS:\n",
        "    break\n",
        "\n",
        "#1. Milestone 1: Generate the random numbers\n",
        "#Generate the random numbers for you and the computer. For now, print both of them out to help you test the logic in later milestones.\n",
        "\n",
        "print(\"Welcome to the High-Low Game!\")\n",
        "print(\"--------------------------------\")\n",
        "\n",
        "\n",
        "user_number = {random.randint(1, 100)}\n",
        "computer_number = {random.randint(1, 100)}\n",
        "\n",
        "print(\"your number is :\",user_number)\n",
        "\n",
        "\n",
        "\n",
        "#2.Milestone 2: Get the user choice\n",
        "# Get user input for their choice of whether they think their number is higher or lower than the computer's number\n",
        "\n",
        "high_low_choice = input(f\"Do you think your number is higher or lower than the computer's?:\")\n",
        "print(high_low_choice)\n",
        "\n",
        "#Milestone 3: Write the game logic\n",
        "#Write code that maps out all the ways to win the round and prints out the results. When does the user win? How might we check for this? (Note: If you and the computer share the same number, the computer should win since your number wouldn't be higher nor lower.)\n",
        "\n",
        "is_user_higher_than_computer: bool = True if user_number > computer_number else False\n",
        "is_user_choice_correct:bool = True if (high_low_choice == \"high\" and  is_user_higher_than_computer) or (high_low_choice == \"low\" and not is_user_higher_than_computer) else False\n",
        "\n",
        "if is_user_choice_correct:\n",
        "  print(\"You win!\")\n",
        "  score += 1\n",
        "else:\n",
        "  print(\"You lose!\")\n",
        "\n",
        "# print(is_user_choice_correct)\n",
        "# print(\"The computer number is:\",computer_number)\n",
        "\n",
        "print(f\"Your score is: {score}\")\n",
        "\n"
      ]
    },
    {
      "cell_type": "code",
      "execution_count": null,
      "metadata": {
        "colab": {
          "base_uri": "https://localhost:8080/"
        },
        "id": "HyTlr_MbQFVP",
        "outputId": "ac952c73-8478-4aef-8c80-f08695dfe874"
      },
      "outputs": [
        {
          "name": "stdout",
          "output_type": "stream",
          "text": [
            "Welcome to the High-Low Game!\n",
            "--------------------------------\n",
            "Round 1\n",
            "Your number is 56\n",
            "Do you think your number is higher or lower than the computer's? (higher/lower): lower\n",
            "Aww, that's incorrect. The computer's number was 52\n",
            "Your score is now 0\n",
            "\n",
            "Round 2\n",
            "Your number is 82\n",
            "Do you think your number is higher or lower than the computer's? (higher/lower): lower\n",
            "Aww, that's incorrect. The computer's number was 50\n",
            "Your score is now 0\n",
            "\n",
            "Round 3\n",
            "Your number is 5\n",
            "Do you think your number is higher or lower than the computer's? (higher/lower): lower\n",
            "You were right! The computer's number was 32\n",
            "Your score is now 1\n",
            "\n",
            "Round 4\n",
            "Your number is 51\n",
            "Do you think your number is higher or lower than the computer's? (higher/lower): higher\n",
            "Aww, that's incorrect. The computer's number was 100\n",
            "Your score is now 1\n",
            "\n",
            "Round 5\n",
            "Your number is 26\n",
            "Do you think your number is higher or lower than the computer's? (higher/lower): higher\n",
            "You were right! The computer's number was 22\n",
            "Your score is now 2\n",
            "\n",
            "Thanks for playing!\n",
            "Good job, you played really well!\n"
          ]
        }
      ],
      "source": [
        "import random\n",
        "\n",
        "# Constant\n",
        "NUM_ROUNDS = 5\n",
        "\n",
        "# Function to play the game\n",
        "def play_game():\n",
        "    print(\"Welcome to the High-Low Game!\")\n",
        "    print(\"--------------------------------\")\n",
        "\n",
        "    # Initial score\n",
        "    score = 0\n",
        "\n",
        "    # Main game loop for each round\n",
        "    for round_num in range(1, NUM_ROUNDS + 1):\n",
        "        print(f\"Round {round_num}\")\n",
        "\n",
        "        # Generate random numbers for player and computer\n",
        "        player_number = random.randint(1, 100)\n",
        "        computer_number = random.randint(1, 100)\n",
        "\n",
        "        # Show player's number\n",
        "        print(f\"Your number is {player_number}\")\n",
        "\n",
        "        # Get player's guess\n",
        "        guess = input(\"Do you think your number is higher or lower than the computer's? (higher/lower): \").strip().lower()\n",
        "\n",
        "        # Safeguard user input\n",
        "        while guess not in [\"higher\", \"lower\"]:\n",
        "            guess = input(\"Please enter either 'higher' or 'lower': \").strip().lower()\n",
        "\n",
        "        # Determine if the player guessed correctly\n",
        "        if (guess == \"higher\" and player_number > computer_number) or (guess == \"lower\" and player_number < computer_number):\n",
        "            print(f\"You were right! The computer's number was {computer_number}\")\n",
        "            score += 1  # Increase score if the player guessed correctly\n",
        "        else:\n",
        "            print(f\"Aww, that's incorrect. The computer's number was {computer_number}\")\n",
        "\n",
        "        # Display current score\n",
        "        print(f\"Your score is now {score}\")\n",
        "        print(\"\")  # Blank line for visual separation between rounds\n",
        "\n",
        "    # End of game messages based on performance\n",
        "    print(\"Thanks for playing!\")\n",
        "    if score == NUM_ROUNDS:\n",
        "        print(\"Wow! You played perfectly!\")\n",
        "    elif score >= NUM_ROUNDS // 2:\n",
        "        print(\"Good job, you played really well!\")\n",
        "    else:\n",
        "        print(\"Better luck next time!\")\n",
        "\n",
        "# Run the game\n",
        "\n",
        "play_game()\n"
      ]
    },
    {
      "cell_type": "markdown",
      "metadata": {
        "id": "ydOx6ALpSsZ_"
      },
      "source": [
        "# **## high low game (OOPs)**"
      ]
    },
    {
      "cell_type": "code",
      "execution_count": null,
      "metadata": {
        "colab": {
          "base_uri": "https://localhost:8080/"
        },
        "id": "Xa2UeVvFSxiq",
        "outputId": "1740a474-2218-4f3c-c2d1-84d70cf27707"
      },
      "outputs": [
        {
          "name": "stdout",
          "output_type": "stream",
          "text": [
            "Welcome to the High-Low Game!\n",
            "--------------------------------\n",
            "Round 1\n",
            "Your number is 24\n",
            "Do you think your number is higher or lower than the computer's? (higher/lower): lower\n",
            "You were right! The computer's number was 26\n",
            "Your score is now 1\n",
            "\n",
            "Round 2\n",
            "Your number is 68\n",
            "Do you think your number is higher or lower than the computer's? (higher/lower): higher\n",
            "You were right! The computer's number was 4\n",
            "Your score is now 2\n",
            "\n",
            "Round 3\n",
            "Your number is 83\n",
            "Do you think your number is higher or lower than the computer's? (higher/lower): higher\n",
            "You were right! The computer's number was 47\n",
            "Your score is now 3\n",
            "\n",
            "Round 4\n",
            "Your number is 46\n",
            "Do you think your number is higher or lower than the computer's? (higher/lower): higher\n",
            "Aww, that's incorrect. The computer's number was 55\n",
            "Your score is now 3\n",
            "\n",
            "Round 5\n",
            "Your number is 69\n",
            "Do you think your number is higher or lower than the computer's? (higher/lower): higher\n",
            "You were right! The computer's number was 2\n",
            "Your score is now 4\n",
            "\n",
            "Thanks for playing!\n",
            "Good job, you played really well!\n"
          ]
        }
      ],
      "source": [
        "import random\n",
        "\n",
        "class HighLowGame:\n",
        "    # Constructor to initialize game settings\n",
        "    def __init__(self, num_rounds=5):\n",
        "        self.num_rounds = num_rounds  # Total number of rounds\n",
        "        self.score = 0  # Player's score\n",
        "        print(\"Welcome to the High-Low Game!\")\n",
        "        print(\"--------------------------------\")\n",
        "\n",
        "    # Method to play the game\n",
        "    def play_game(self):\n",
        "        for round_num in range(1, self.num_rounds + 1):\n",
        "            print(f\"Round {round_num}\")\n",
        "            self.play_round(round_num)\n",
        "            print(\"\")  # Blank line for visual separation between rounds\n",
        "\n",
        "        self.end_game()  # Display final message after all rounds are complete\n",
        "\n",
        "    # Method to play a single round\n",
        "    def play_round(self, round_num):\n",
        "        # Generate random numbers for player and computer\n",
        "        player_number = random.randint(1, 100)\n",
        "        computer_number = random.randint(1, 100)\n",
        "\n",
        "        # Show player's number\n",
        "        print(f\"Your number is {player_number}\")\n",
        "\n",
        "        # Get player's guess\n",
        "        guess = self.get_player_guess()\n",
        "\n",
        "        # Determine if the player guessed correctly\n",
        "        if (guess == \"higher\" and player_number > computer_number) or (guess == \"lower\" and player_number < computer_number):\n",
        "            print(f\"You were right! The computer's number was {computer_number}\")\n",
        "            self.score += 1  # Increase score if the player guessed correctly\n",
        "        else:\n",
        "            print(f\"Aww, that's incorrect. The computer's number was {computer_number}\")\n",
        "\n",
        "        # Display current score\n",
        "        print(f\"Your score is now {self.score}\")\n",
        "\n",
        "    # Method to get player's guess and validate input\n",
        "    def get_player_guess(self):\n",
        "        guess = input(\"Do you think your number is higher or lower than the computer's? (higher/lower): \").strip().lower()\n",
        "        while guess not in [\"higher\", \"lower\"]:\n",
        "            guess = input(\"Please enter either 'higher' or 'lower': \").strip().lower()\n",
        "        return guess\n",
        "\n",
        "    # Method to display end of game messages\n",
        "    def end_game(self):\n",
        "        print(\"Thanks for playing!\")\n",
        "        if self.score == self.num_rounds:\n",
        "            print(\"Wow! You played perfectly!\")\n",
        "        elif self.score >= self.num_rounds // 2:\n",
        "            print(\"Good job, you played really well!\")\n",
        "        else:\n",
        "            print(\"Better luck next time!\")\n",
        "\n",
        "# Create an instance of the game and run it\n",
        "game = HighLowGame(num_rounds=5)\n",
        "game.play_game()\n"
      ]
    },
    {
      "cell_type": "markdown",
      "metadata": {
        "id": "WxDrn2vYSTUb"
      },
      "source": [
        "# **Sir Ameen Alam (Class Task(BANK MANAGEMENT SYSTEM))**"
      ]
    },
    {
      "cell_type": "code",
      "execution_count": null,
      "metadata": {
        "colab": {
          "base_uri": "https://localhost:8080/"
        },
        "id": "mbDd0wjYSgAt",
        "outputId": "5454d059-2c99-41ff-85f3-13241e707b58"
      },
      "outputs": [
        {
          "output_type": "stream",
          "name": "stdout",
          "text": [
            "\n",
            "Bank Management System Menu:\n",
            "1. Create Account\n",
            "2. Deposit Money\n",
            "3. Withdraw Money\n",
            "4. Check Balance\n",
            "5. Transfer Money\n",
            "6. Display Account Details\n",
            "7. Exit\n",
            "Enter your choice (1-7): 1\n",
            "Enter account number: 10\n",
            "Enter account holder's name: ali\n",
            "Enter initial balance: 1000\n",
            "Account created successfully for ali.\n",
            "\n",
            "Bank Management System Menu:\n",
            "1. Create Account\n",
            "2. Deposit Money\n",
            "3. Withdraw Money\n",
            "4. Check Balance\n",
            "5. Transfer Money\n",
            "6. Display Account Details\n",
            "7. Exit\n",
            "Enter your choice (1-7): 3\n",
            "Enter account number: 10\n",
            "Enter amount to withdraw: 100\n",
            "Withdrew 100.0 successfully.\n",
            "\n",
            "Bank Management System Menu:\n",
            "1. Create Account\n",
            "2. Deposit Money\n",
            "3. Withdraw Money\n",
            "4. Check Balance\n",
            "5. Transfer Money\n",
            "6. Display Account Details\n",
            "7. Exit\n",
            "Enter your choice (1-7): 4\n",
            "Enter account number: 10\n",
            "Balance: 900.0\n",
            "\n",
            "Bank Management System Menu:\n",
            "1. Create Account\n",
            "2. Deposit Money\n",
            "3. Withdraw Money\n",
            "4. Check Balance\n",
            "5. Transfer Money\n",
            "6. Display Account Details\n",
            "7. Exit\n",
            "Enter your choice (1-7): 7\n",
            "Exiting the system. Thank you for using the Bank Management System!\n"
          ]
        }
      ],
      "source": [
        "class BankAccount:\n",
        "    def __init__(self, account_number, holder_name, initial_balance=0):\n",
        "        self.account_number = account_number\n",
        "        self.holder_name = holder_name\n",
        "        self.balance = initial_balance\n",
        "\n",
        "    def deposit(self, amount):\n",
        "        if amount > 0:\n",
        "            self.balance += amount\n",
        "            print(f\"Deposited {amount} successfully.\")\n",
        "        else:\n",
        "            print(\"Deposit amount must be positive.\")\n",
        "\n",
        "    def withdraw(self, amount):\n",
        "        if amount > 0 and amount <= self.balance:\n",
        "            self.balance -= amount\n",
        "            print(f\"Withdrew {amount} successfully.\")\n",
        "        elif amount > self.balance:\n",
        "            print(\"Insufficient funds.\")\n",
        "        else:\n",
        "            print(\"Withdrawal amount must be positive.\")\n",
        "\n",
        "    def get_balance(self):\n",
        "        return self.balance\n",
        "\n",
        "    def display_details(self):\n",
        "        print(f\"Account Number: {self.account_number}\")\n",
        "        print(f\"Holder Name: {self.holder_name}\")\n",
        "        print(f\"Current Balance: {self.balance}\")\n",
        "\n",
        "\n",
        "class Bank:\n",
        "    def __init__(self):\n",
        "        self.accounts = {}\n",
        "\n",
        "    def create_account(self):\n",
        "        account_number = input(\"Enter account number: \")\n",
        "        holder_name = input(\"Enter account holder's name: \")\n",
        "        try:\n",
        "            initial_balance = float(input(\"Enter initial balance: \"))\n",
        "        except ValueError:\n",
        "            print(\"Invalid balance. Setting initial balance to 0.\")\n",
        "            initial_balance = 0\n",
        "\n",
        "        if account_number in self.accounts:\n",
        "            print(\"Account already exists.\")\n",
        "        else:\n",
        "            self.accounts[account_number] = BankAccount(account_number, holder_name, initial_balance)\n",
        "            print(f\"Account created successfully for {holder_name}.\")\n",
        "\n",
        "    def deposit_to_account(self):\n",
        "        account_number = input(\"Enter account number: \")\n",
        "        try:\n",
        "            amount = float(input(\"Enter amount to deposit: \"))\n",
        "        except ValueError:\n",
        "            print(\"Invalid amount.\")\n",
        "            return\n",
        "\n",
        "        account = self.accounts.get(account_number)\n",
        "        if account:\n",
        "            account.deposit(amount)\n",
        "        else:\n",
        "            print(\"Account not found.\")\n",
        "\n",
        "    def withdraw_from_account(self):\n",
        "        account_number = input(\"Enter account number: \")\n",
        "        try:\n",
        "            amount = float(input(\"Enter amount to withdraw: \"))\n",
        "        except ValueError:\n",
        "            print(\"Invalid amount.\")\n",
        "            return\n",
        "\n",
        "        account = self.accounts.get(account_number)\n",
        "        if account:\n",
        "            account.withdraw(amount)\n",
        "        else:\n",
        "            print(\"Account not found.\")\n",
        "\n",
        "    def check_balance(self):\n",
        "        account_number = input(\"Enter account number: \")\n",
        "        account = self.accounts.get(account_number)\n",
        "        if account:\n",
        "            print(f\"Balance: {account.get_balance()}\")\n",
        "        else:\n",
        "            print(\"Account not found.\")\n",
        "\n",
        "    def transfer_money(self):\n",
        "        from_account = input(\"Enter sender's account number: \")\n",
        "        to_account = input(\"Enter receiver's account number: \")\n",
        "        try:\n",
        "            amount = float(input(\"Enter amount to transfer: \"))\n",
        "        except ValueError:\n",
        "            print(\"Invalid amount.\")\n",
        "            return\n",
        "\n",
        "        sender = self.accounts.get(from_account)\n",
        "        receiver = self.accounts.get(to_account)\n",
        "\n",
        "        if sender and receiver:\n",
        "            if sender.get_balance() >= amount:\n",
        "                sender.withdraw(amount)\n",
        "                receiver.deposit(amount)\n",
        "                print(f\"Transferred {amount} from {from_account} to {to_account}.\")\n",
        "            else:\n",
        "                print(\"Insufficient funds for transfer.\")\n",
        "        else:\n",
        "            print(\"One or both accounts not found.\")\n",
        "\n",
        "    def display_account_details(self):\n",
        "        account_number = input(\"Enter account number: \")\n",
        "        account = self.accounts.get(account_number)\n",
        "        if account:\n",
        "            account.display_details()\n",
        "        else:\n",
        "            print(\"Account not found.\")\n",
        "\n",
        "    def menu(self):\n",
        "        while True:\n",
        "            print(\"\\nBank Management System Menu:\")\n",
        "            print(\"1. Create Account\")\n",
        "            print(\"2. Deposit Money\")\n",
        "            print(\"3. Withdraw Money\")\n",
        "            print(\"4. Check Balance\")\n",
        "            print(\"5. Transfer Money\")\n",
        "            print(\"6. Display Account Details\")\n",
        "            print(\"7. Exit\")\n",
        "\n",
        "            choice = input(\"Enter your choice (1-7): \")\n",
        "\n",
        "            if choice == '1':\n",
        "                self.create_account()\n",
        "            elif choice == '2':\n",
        "                self.deposit_to_account()\n",
        "            elif choice == '3':\n",
        "                self.withdraw_from_account()\n",
        "            elif choice == '4':\n",
        "                self.check_balance()\n",
        "            elif choice == '5':\n",
        "                self.transfer_money()\n",
        "            elif choice == '6':\n",
        "                self.display_account_details()\n",
        "            elif choice == '7':\n",
        "                print(\"Exiting the system. Thank you for using the Bank Management System!\")\n",
        "                break\n",
        "            else:\n",
        "                print(\"Invalid choice. Please try again.\")\n",
        "\n",
        "\n",
        "# Main Execution:\n",
        "if __name__ == \"__main__\":\n",
        "    bank = Bank()\n",
        "    bank.menu()\n"
      ]
    },
    {
      "cell_type": "markdown",
      "source": [
        "# **# TASK (Number Guessing Game + High Low Game**"
      ],
      "metadata": {
        "id": "1JGSErjtCTqh"
      }
    },
    {
      "cell_type": "code",
      "source": [
        "# import random\n",
        "\n",
        "# # Base class for games\n",
        "# class Game:\n",
        "#     def __init__(self, max_attempts=5):\n",
        "#         # Encapsulating common attributes\n",
        "#         self.attempts = 0\n",
        "#         self.is_over = False\n",
        "#         self.max_attempts = max_attempts\n",
        "\n",
        "#     def play(self):\n",
        "#         # Abstract method, to be overridden in child classes\n",
        "#         raise NotImplementedError(\"Subclasses should implement this method!\")\n",
        "\n",
        "#     def reset(self):\n",
        "#         # Reset the common game properties\n",
        "#         self.attempts = 0\n",
        "#         self.is_over = False\n",
        "\n",
        "# # High-Low Game class inheriting from Game\n",
        "# class HighLowGame(Game):\n",
        "#     def __init__(self):\n",
        "#         super().__init__(max_attempts=5)  # Limited to 5 attempts\n",
        "#         self.target_number = random.randint(1, 100)\n",
        "\n",
        "#     def play(self):\n",
        "#         print(\"High-Low Game: Guess a number between 1 and 100. You have 5 attempts.\")\n",
        "#         while not self.is_over and self.attempts < self.max_attempts:\n",
        "#             guess = int(input(\"Enter your guess: \"))\n",
        "#             self.attempts += 1\n",
        "\n",
        "#             if guess < self.target_number:\n",
        "#                 print(\"Higher!\")\n",
        "#             elif guess > self.target_number:\n",
        "#                 print(\"Lower!\")\n",
        "#             else:\n",
        "#                 print(f\"Congratulations! You've guessed the number in {self.attempts} attempts.\")\n",
        "#                 self.is_over = True\n",
        "\n",
        "#             # Check if the game is over due to reaching the max attempts\n",
        "#             if self.attempts >= self.max_attempts and not self.is_over:\n",
        "#                 print(f\"Game Over! You've reached the maximum attempts. The correct number was {self.target_number}.\")\n",
        "#                 self.is_over = True\n",
        "\n",
        "#         self.reset()  # Reset the game state for a new game\n",
        "\n",
        "# # Number Guessing Game class inheriting from Game\n",
        "# class NumberGuessingGame(Game):\n",
        "#     def __init__(self):\n",
        "#         super().__init__(max_attempts=5)  # Limited to 5 attempts\n",
        "#         self.target_number = random.randint(1, 50)\n",
        "\n",
        "#     def play(self):\n",
        "#         print(\"Number Guessing Game: Guess the number between 1 and 50. You have 5 attempts.\")\n",
        "#         while not self.is_over and self.attempts < self.max_attempts:\n",
        "#             guess = int(input(\"Enter your guess: \"))\n",
        "#             self.attempts += 1\n",
        "\n",
        "#             if guess == self.target_number:\n",
        "#                 print(f\"Congratulations! You've guessed the number in {self.attempts} attempts.\")\n",
        "#                 self.is_over = True\n",
        "#             else:\n",
        "#                 if guess < self.target_number:\n",
        "#                     print(\"Try a higher number!\")\n",
        "#                 else:\n",
        "#                     print(\"Try a lower number!\")\n",
        "\n",
        "#             # Check if the game is over due to reaching the max attempts\n",
        "#             if self.attempts >= self.max_attempts and not self.is_over:\n",
        "#                 print(f\"Game Over! The correct number was {self.target_number}.\")\n",
        "#                 self.is_over = True\n",
        "\n",
        "#         self.reset()  # Reset the game state for a new game\n",
        "\n",
        "# # Game Factory class to create game instances (Demonstrating abstraction)\n",
        "# class GameFactory:\n",
        "#\n",
        "#     def create_game(game_type):\n",
        "#         if game_type.lower() == \"highlow\":\n",
        "#             return HighLowGame()\n",
        "#         elif game_type.lower() == \"numberguess\":\n",
        "#             return NumberGuessingGame()\n",
        "#         else:\n",
        "#             raise ValueError(\"Unknown game type!\")\n",
        "\n",
        "# # Main application to play games\n",
        "# def main():\n",
        "#     print(\"Welcome to the Game Center!\")\n",
        "#     while True:\n",
        "#         game_type = input(\"Which game would you like to play? (highlow/numberguess/quit): \").lower()\n",
        "#         if game_type == \"quit\":\n",
        "#             print(\"Thanks for playing! Goodbye.\")\n",
        "#             break\n",
        "\n",
        "#         try:\n",
        "#             # Use the factory to create the desired game instance with 5 attempts\n",
        "#             game = GameFactory.create_game(game_type)\n",
        "#             game.play()\n",
        "#         except ValueError as e:\n",
        "#             print(e)\n",
        "\n",
        "# if __name__ == \"__main__\":\n",
        "#     main()\n"
      ],
      "metadata": {
        "colab": {
          "base_uri": "https://localhost:8080/"
        },
        "id": "DV78jZPdDVyW",
        "outputId": "95e7c4d6-e35b-48de-b042-f74176dee013"
      },
      "execution_count": null,
      "outputs": [
        {
          "output_type": "stream",
          "name": "stdout",
          "text": [
            "Welcome to the Game Center!\n",
            "Which game would you like to play? (highlow/numberguess/quit): numberguess\n",
            "Number Guessing Game: Guess the number between 1 and 50. You have 5 attempts.\n",
            "Enter your guess: 3\n",
            "Try a higher number!\n",
            "Enter your guess: 66\n",
            "Try a lower number!\n",
            "Enter your guess: 50\n",
            "Try a lower number!\n",
            "Enter your guess: 66\n",
            "Try a lower number!\n",
            "Enter your guess: 44\n",
            "Try a lower number!\n",
            "Game Over! The correct number was 26.\n",
            "Which game would you like to play? (highlow/numberguess/quit): highlow\n",
            "High-Low Game: Guess a number between 1 and 100. You have 5 attempts.\n",
            "Enter your guess: 22\n",
            "Higher!\n",
            "Enter your guess: 88\n",
            "Lower!\n",
            "Enter your guess: 4\n",
            "Higher!\n",
            "Enter your guess: 50\n",
            "Higher!\n",
            "Enter your guess: 60\n",
            "Higher!\n",
            "Game Over! You've reached the maximum attempts. The correct number was 84.\n",
            "Which game would you like to play? (highlow/numberguess/quit): quit\n",
            "Thanks for playing! Goodbye.\n"
          ]
        }
      ]
    },
    {
      "cell_type": "markdown",
      "source": [
        "## Problem #1: List **Practice**"
      ],
      "metadata": {
        "id": "eFxH77nh__wz"
      }
    },
    {
      "cell_type": "code",
      "source": [
        "def main():\n",
        "    # Create a list called fruit_list that contains the following fruits:\n",
        "\n",
        "    fruit_list = ['apple', 'banana', 'orange', 'grape', 'pineapple']\n",
        "\n",
        "    # Print the length of the list.\n",
        "    print(\"Length of the list:\", len(fruit_list))\n",
        "\n",
        "    # Add 'mango' at the end of the list.\n",
        "    fruit_list.append('mango')\n",
        "\n",
        "    # Print the updated list.\n",
        "    print(\"Updated list:\", fruit_list)\n",
        "\n",
        "# function calling\n",
        "main()\n"
      ],
      "metadata": {
        "colab": {
          "base_uri": "https://localhost:8080/"
        },
        "id": "CkpNSb5lAOOf",
        "outputId": "d34a6644-b88a-4883-b50c-894584ef82d8"
      },
      "execution_count": null,
      "outputs": [
        {
          "output_type": "stream",
          "name": "stdout",
          "text": [
            "Length of the list: 5\n",
            "Updated list: ['apple', 'banana', 'orange', 'grape', 'pineapple', 'mango']\n"
          ]
        }
      ]
    },
    {
      "cell_type": "markdown",
      "source": [
        "# **Problem #2: Index Game**"
      ],
      "metadata": {
        "id": "Q8LE92CvAv-1"
      }
    },
    {
      "cell_type": "code",
      "source": [
        "# Function to access an element by index\n",
        "def access_element(my_list, index):\n",
        "    if 0 <= index < len(my_list):\n",
        "        return my_list[index]\n",
        "    else:\n",
        "        return \"Index out of range.\"\n",
        "\n",
        "# Function to modify an element at a given index\n",
        "def modify_element(my_list, index, new_value):\n",
        "    if 0 <= index < len(my_list):\n",
        "        my_list[index] = new_value\n",
        "        return f\"Updated list: {my_list}\"\n",
        "    else:\n",
        "        return \"Index out of range.\"\n",
        "\n",
        "# Function to slice the list from start index to end index\n",
        "def slice_list(my_list, start_index, end_index):\n",
        "    if start_index < 0 or end_index > len(my_list):\n",
        "        return \"Indices are out of range.\"\n",
        "    else:\n",
        "        return my_list[start_index:end_index]\n",
        "\n",
        "# Game Interaction\n",
        "def game():\n",
        "    # Initialize the list\n",
        "    my_list = [10, 'apple', 42, 'banana', 99]\n",
        "\n",
        "    print(\"Welcome to the List Manipulation Game!\")\n",
        "    print(f\"Here is the initial list: {my_list}\\n\")\n",
        "\n",
        "    while True:\n",
        "        print(\"Choose an operation:\")\n",
        "        print(\"1. Access an element\")\n",
        "        print(\"2. Modify an element\")\n",
        "        print(\"3. Slice the list\")\n",
        "        print(\"4. Exit\")\n",
        "\n",
        "        choice = input(\"Enter the number of your choice: \")\n",
        "\n",
        "        if choice == '1':\n",
        "            try:\n",
        "                index = int(input(\"Enter the index you want to access: \"))\n",
        "                result = access_element(my_list, index)\n",
        "                print(f\"Result: {result}\\n\")\n",
        "            except ValueError:\n",
        "                print(\"Invalid input. Please enter a number for the index.\\n\")\n",
        "\n",
        "        elif choice == '2':\n",
        "            try:\n",
        "                index = int(input(\"Enter the index you want to modify: \"))\n",
        "                new_value = input(\"Enter the new value: \")\n",
        "                result = modify_element(my_list, index, new_value)\n",
        "                print(f\"{result}\\n\")\n",
        "            except ValueError:\n",
        "                print(\"Invalid input. Please enter a number for the index.\\n\")\n",
        "\n",
        "        elif choice == '3':\n",
        "            try:\n",
        "                start_index = int(input(\"Enter the start index: \"))\n",
        "                end_index = int(input(\"Enter the end index: \"))\n",
        "                result = slice_list(my_list, start_index, end_index)\n",
        "                print(f\"Sliced list: {result}\\n\")\n",
        "            except ValueError:\n",
        "                print(\"Invalid input. Please enter numbers for the indices.\\n\")\n",
        "\n",
        "        elif choice == '4':\n",
        "            print(\"Thanks for playing! Goodbye.\")\n",
        "            break\n",
        "\n",
        "        else:\n",
        "            print(\"Invalid choice. Please select a valid option.\\n\")\n",
        "\n",
        "# Call the game function to start the game\n",
        "game()\n"
      ],
      "metadata": {
        "colab": {
          "base_uri": "https://localhost:8080/"
        },
        "id": "gm38Aa_zA4cm",
        "outputId": "9c661679-634e-4469-c5bb-73fba42b27b5"
      },
      "execution_count": null,
      "outputs": [
        {
          "output_type": "stream",
          "name": "stdout",
          "text": [
            "Welcome to the List Manipulation Game!\n",
            "Here is the initial list: [10, 'apple', 42, 'banana', 99]\n",
            "\n",
            "Choose an operation:\n",
            "1. Access an element\n",
            "2. Modify an element\n",
            "3. Slice the list\n",
            "4. Exit\n",
            "Enter the number of your choice: 1\n",
            "Enter the index you want to access: 2\n",
            "Result: 42\n",
            "\n",
            "Choose an operation:\n",
            "1. Access an element\n",
            "2. Modify an element\n",
            "3. Slice the list\n",
            "4. Exit\n",
            "Enter the number of your choice: 3\n",
            "Enter the start index: 3\n",
            "Enter the end index: 6\n",
            "Sliced list: Indices are out of range.\n",
            "\n",
            "Choose an operation:\n",
            "1. Access an element\n",
            "2. Modify an element\n",
            "3. Slice the list\n",
            "4. Exit\n",
            "Enter the number of your choice: 4\n",
            "Thanks for playing! Goodbye.\n"
          ]
        }
      ]
    }
  ],
  "metadata": {
    "colab": {
      "provenance": [],
      "authorship_tag": "ABX9TyPTWPzyXhV+wwCdx1MzbM2Z",
      "include_colab_link": true
    },
    "kernelspec": {
      "display_name": "Python 3",
      "name": "python3"
    },
    "language_info": {
      "name": "python"
    }
  },
  "nbformat": 4,
  "nbformat_minor": 0
}